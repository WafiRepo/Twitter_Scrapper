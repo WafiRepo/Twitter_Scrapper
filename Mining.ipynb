{
 "cells": [
  {
   "cell_type": "code",
   "execution_count": 1,
   "id": "medium-bolivia",
   "metadata": {},
   "outputs": [],
   "source": [
    "import re\n",
    "import csv\n",
    "from getpass import getpass\n",
    "from time import sleep\n",
    "from selenium.webdriver.common.keys import Keys\n",
    "from selenium.common.exceptions import NoSuchElementException\n",
    "from msedge.selenium_tools import Edge, EdgeOptions"
   ]
  },
  {
   "cell_type": "code",
   "execution_count": 2,
   "id": "unavailable-abuse",
   "metadata": {},
   "outputs": [],
   "source": [
    "# web driver Edge\n",
    "options = EdgeOptions()\n",
    "options.use_chromium = True\n",
    "driver = Edge(options=options)\n",
    "driver.get('https://www.twitter.com/login')\n"
   ]
  },
  {
   "cell_type": "code",
   "execution_count": 4,
   "id": "specialized-defensive",
   "metadata": {},
   "outputs": [
    {
     "name": "stdin",
     "output_type": "stream",
     "text": [
      "Username:  MilzamWafiAzhar\n"
     ]
    }
   ],
   "source": [
    "# login page\n",
    "user = input ('Username: ')\n",
    "username = driver.find_element_by_xpath('//input[@name=\"session[username_or_email]\"]')\n",
    "username.send_keys(user)"
   ]
  },
  {
   "cell_type": "code",
   "execution_count": 5,
   "id": "regulated-surrey",
   "metadata": {},
   "outputs": [
    {
     "name": "stdin",
     "output_type": "stream",
     "text": [
      " ···············\n"
     ]
    }
   ],
   "source": [
    "password = driver.find_element_by_xpath('//input[@name=\"session[password]\"]')\n",
    "my_password = getpass()\n",
    "password.send_keys(my_password)\n",
    "password.send_keys(Keys.RETURN)"
   ]
  },
  {
   "cell_type": "code",
   "execution_count": 5,
   "id": "retained-combine",
   "metadata": {},
   "outputs": [],
   "source": [
    "# find query\n",
    "search_input = driver.find_element_by_xpath('//input[@aria-label=\"Search query\"]')\n",
    "search_input.send_keys('Covid')\n",
    "search_input.send_keys(Keys.RETURN)"
   ]
  },
  {
   "cell_type": "code",
   "execution_count": 6,
   "id": "critical-converter",
   "metadata": {},
   "outputs": [],
   "source": [
    "# Choose Latest\n",
    "driver.find_element_by_link_text('Latest').click()"
   ]
  },
  {
   "cell_type": "code",
   "execution_count": 10,
   "id": "featured-screening",
   "metadata": {},
   "outputs": [],
   "source": [
    "# tweet element\n",
    "pages = driver.find_elements_by_xpath('//div[@data-testid=\"tweet\"]')\n",
    "page = pages[0]"
   ]
  },
  {
   "cell_type": "code",
   "execution_count": null,
   "id": "subject-location",
   "metadata": {},
   "outputs": [],
   "source": [
    "# Username\n",
    "#page.find_element_by_xpath('.//span').text"
   ]
  },
  {
   "cell_type": "code",
   "execution_count": null,
   "id": "informative-omega",
   "metadata": {},
   "outputs": [],
   "source": [
    "# nameTag\n",
    "#page.find_element_by_xpath('.//span[contains(text(), \"@\")]').text"
   ]
  },
  {
   "cell_type": "code",
   "execution_count": null,
   "id": "received-organization",
   "metadata": {},
   "outputs": [],
   "source": [
    "# tweet\n",
    "#tweet = page.find_element_by_xpath('.//div[2]/div[2]/div[1]').text\n",
    "#tweet"
   ]
  },
  {
   "cell_type": "code",
   "execution_count": 11,
   "id": "informal-clerk",
   "metadata": {},
   "outputs": [],
   "source": [
    "def get_tweet_data(page):\n",
    "    username = page.find_element_by_xpath('.//span').text\n",
    "    try:\n",
    "        nameTag = page.find_element_by_xpath('.//span[contains(text(), \"@\")]').text\n",
    "    except NoSuchElementException:\n",
    "        return\n",
    "\n",
    "    tweet = page.find_element_by_xpath('.//div[2]/div[2]/div[1]').text\n",
    "    attributes = (username, nameTag, tweet)\n",
    "    return attributes\n"
   ]
  },
  {
   "cell_type": "code",
   "execution_count": 12,
   "id": "whole-cherry",
   "metadata": {},
   "outputs": [],
   "source": [
    "get_tweet_data(page)\n",
    "data = []\n",
    "tweet_ids = set()\n",
    "last_position = driver.execute_script(\"return window.pageYOffset;\")\n",
    "scrolling = True"
   ]
  },
  {
   "cell_type": "code",
   "execution_count": null,
   "id": "julian-turtle",
   "metadata": {},
   "outputs": [],
   "source": [
    "while scrolling:\n",
    "    page = driver.find_elements_by_xpath('//div[@data-testid=\"tweet\"]')\n",
    "    for page in page[-15:]:\n",
    "        tweet = get_tweet_data(page)\n",
    "        if tweet:\n",
    "            tweet_id = ''.join(tweet)\n",
    "            if tweet_id not in tweet_ids:\n",
    "                tweet_ids.add(tweet_id)\n",
    "                data.append(tweet)\n",
    "            \n",
    "    scroll_attempt = 0\n",
    "    while True:\n",
    "    #check position\n",
    "        driver.execute_script('window.scrollTo(0, document.body.scrollHeight);')\n",
    "        sleep(2)\n",
    "        curr_position = driver.execute_script(\"return window.pageYOffset;\")\n",
    "        if last_position == curr_position:\n",
    "            scroll_attempt += 1\n",
    "            \n",
    "            if scroll_attempt >= 3:\n",
    "                scrolling = False\n",
    "                break\n",
    "\n",
    "            else:\n",
    "                sleep(2)\n",
    "        else:\n",
    "            last_position = curr_position\n",
    "            break"
   ]
  },
  {
   "cell_type": "code",
   "execution_count": 15,
   "id": "patient-characteristic",
   "metadata": {},
   "outputs": [],
   "source": [
    "with open('Covid.csv', 'w', newline='', encoding='utf-8') as f:\n",
    "    header = ['User Name', 'Name Tag', 'Description']\n",
    "    writer = csv.writer(f)\n",
    "    writer.writerow(header)\n",
    "    writer.writerows(data)"
   ]
  },
  {
   "cell_type": "code",
   "execution_count": 23,
   "id": "annual-category",
   "metadata": {},
   "outputs": [
    {
     "data": {
      "text/plain": [
       "15519"
      ]
     },
     "execution_count": 23,
     "metadata": {},
     "output_type": "execute_result"
    }
   ],
   "source": [
    "len(data)"
   ]
  },
  {
   "cell_type": "code",
   "execution_count": 6,
   "id": "informal-husband",
   "metadata": {},
   "outputs": [
    {
     "name": "stdout",
     "output_type": "stream",
     "text": [
      "Note: you may need to restart the kernel to use updated packages.\n"
     ]
    },
    {
     "name": "stderr",
     "output_type": "stream",
     "text": [
      "The system cannot find the file specified.\n"
     ]
    }
   ],
   "source": [
    "pip frezee < requirements.txt"
   ]
  },
  {
   "cell_type": "code",
   "execution_count": null,
   "id": "tutorial-woman",
   "metadata": {},
   "outputs": [],
   "source": []
  }
 ],
 "metadata": {
  "kernelspec": {
   "display_name": "Python 3",
   "language": "python",
   "name": "python3"
  },
  "language_info": {
   "codemirror_mode": {
    "name": "ipython",
    "version": 3
   },
   "file_extension": ".py",
   "mimetype": "text/x-python",
   "name": "python",
   "nbconvert_exporter": "python",
   "pygments_lexer": "ipython3",
   "version": "3.9.1"
  }
 },
 "nbformat": 4,
 "nbformat_minor": 5
}
